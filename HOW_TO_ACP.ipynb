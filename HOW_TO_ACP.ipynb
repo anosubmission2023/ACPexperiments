{
 "cells": [
  {
   "cell_type": "code",
   "execution_count": 1,
   "id": "a263664d",
   "metadata": {},
   "outputs": [
    {
     "name": "stderr",
     "output_type": "stream",
     "text": [
      "/home/xxxxx/anaconda3/envs/acv3/lib/python3.10/site-packages/tqdm/auto.py:22: TqdmWarning: IProgress not found. Please update jupyter and ipywidgets. See https://ipywidgets.readthedocs.io/en/stable/user_install.html\n",
      "  from .autonotebook import tqdm as notebook_tqdm\n"
     ]
    }
   ],
   "source": [
    "from SLCP.datasets import datasets\n",
    "from SLCP.cqr import helper\n",
    "from SLCP import config\n",
    "from sklearn.ensemble import RandomForestRegressor\n",
    "import numpy as np\n",
    "from ACP.acv_explainers import ACXplainer\n",
    "from ACP.acv_explainers.utils import mean_score, quantile_score\n",
    "from SLCP.conformal import ConformalPred\n",
    "import matplotlib.pyplot as plt\n",
    "import seaborn as sns\n",
    "import pandas as pd"
   ]
  },
  {
   "cell_type": "markdown",
   "id": "405d2a5e",
   "metadata": {},
   "source": [
    "### 1. Import datasets"
   ]
  },
  {
   "cell_type": "code",
   "execution_count": 2,
   "id": "ebf8c2f0",
   "metadata": {},
   "outputs": [],
   "source": [
    "random_seed = 2022\n",
    "\n",
    "base_dataset_path = '/home/xxxxx/acp_experiments/SLCP/datasets/'\n",
    "dataset_name = 'bike'\n",
    "\n",
    "test_ratio = 0.25\n",
    "valid_ratio = 0.5\n",
    "\n",
    "alpha = 0.1\n",
    "level = 1 - alpha\n",
    "\n",
    "# METRICS\n",
    "coverages = {}\n",
    "lengths = {}\n",
    "lengths_residuals = {}\n",
    "y_lower = {}\n",
    "y_upper = {}\n",
    "r = {}"
   ]
  },
  {
   "cell_type": "code",
   "execution_count": 3,
   "id": "3b138188",
   "metadata": {},
   "outputs": [],
   "source": [
    "X_train, X_test, y_train, y_test = datasets.GetDataset(dataset_name, base_dataset_path, random_seed, test_ratio)\n",
    "\n",
    "x_train, x_test = X_train.astype(np.double), X_test.astype(np.double)\n",
    "y_train, y_test = y_train.astype(np.double).reshape(-1), y_test.astype(np.double).reshape(-1)\n",
    "\n",
    "in_shape = x_train.shape[1]\n",
    "n_train = x_train.shape[0]\n",
    "\n",
    "idx = np.random.permutation(n_train)\n",
    "n_half = int(np.floor(n_train * valid_ratio))\n",
    "idx_train, idx_cal = idx[:n_half], idx[n_half:]"
   ]
  },
  {
   "cell_type": "markdown",
   "id": "bee3f20a",
   "metadata": {},
   "source": [
    "### 2. Train model"
   ]
  },
  {
   "cell_type": "code",
   "execution_count": 4,
   "id": "41257534",
   "metadata": {},
   "outputs": [
    {
     "data": {
      "text/plain": [
       "RandomForestRegressor(max_features=10, min_samples_leaf=10, random_state=2022)"
      ]
     },
     "execution_count": 4,
     "metadata": {},
     "output_type": "execute_result"
    }
   ],
   "source": [
    "mean_estimator = RandomForestRegressor(n_estimators=100,\n",
    "                                       min_samples_leaf=10,\n",
    "                                       max_features=10,\n",
    "                                       random_state=random_seed)\n",
    "\n",
    "mean_estimator.fit(x_train[idx_train], y_train[idx_train])\n",
    "\n",
    "# Decomment the code below for quantile score\n",
    "# quantile_estimator = helper.QuantileForestRegressorAdapter(model=None,\n",
    "#                                                            fit_params=None,\n",
    "#                                                            quantiles=config.ConformalParams.quantiles,\n",
    "#                                                            params=config.RandomForecastParams)\n",
    "# quantile_estimator.fit(x_train[idx_train], y_train[idx_train])"
   ]
  },
  {
   "cell_type": "code",
   "execution_count": 5,
   "id": "a0e1d148",
   "metadata": {},
   "outputs": [],
   "source": [
    "pred_mean = mean_estimator.predict(x_test).astype(np.float64)\n",
    "v_test = mean_score(pred_mean, y_test)"
   ]
  },
  {
   "cell_type": "markdown",
   "id": "9ffb735d",
   "metadata": {},
   "source": [
    "### 3. Adaptive Conformal Prediction (ACP) "
   ]
  },
  {
   "cell_type": "code",
   "execution_count": 6,
   "id": "f524d60e",
   "metadata": {},
   "outputs": [],
   "source": [
    "acp = ACXplainer(classifier=False, n_estimators=100,\n",
    "                  mtry=int(in_shape),\n",
    "                  max_depth=20,\n",
    "                  min_node_size=10,\n",
    "                  seed=random_seed)"
   ]
  },
  {
   "cell_type": "markdown",
   "id": "483b5683",
   "metadata": {},
   "source": [
    "#### Here, we only use training-conditional calibration as it is more fast with almost same performance as LCP-RF or LCP-RF-G in most cases"
   ]
  },
  {
   "cell_type": "code",
   "execution_count": 7,
   "id": "694071cc",
   "metadata": {},
   "outputs": [
    {
     "name": "stdout",
     "output_type": "stream",
     "text": [
      "Training calibration of QRF\n"
     ]
    },
    {
     "name": "stderr",
     "output_type": "stream",
     "text": [
      "100%|████████████████████████████████████████████████████████████████████████████████████████████████████████████████████████████████████████████████████████████████████████████████████████████████████████████████████████████████████| 50/50 [01:45<00:00,  2.12s/it]\n"
     ]
    }
   ],
   "source": [
    "acp.fit_calibration(x_train[idx_cal], y_train[idx_cal], mean_estimator, quantile=level, only_qrf=True,\n",
    "                    score_type='mean')\n",
    "\n",
    "# Decomment this code for quantile score\n",
    "# acp.fit_calibration(x_train[idx_cal], y_train[idx_cal], quantile_estimator, quantile=level, only_qrf=True\n",
    "#                     score_type='quantile')"
   ]
  },
  {
   "cell_type": "code",
   "execution_count": 8,
   "id": "8c8ca476",
   "metadata": {},
   "outputs": [],
   "source": [
    "# These code first compute the predicted residuals quantile, then compute the PI\n",
    "# r['QRF_TC'] = acp.predict_qrf_r(x_test)\n",
    "# y_lower['QRF_TC'] = pred_mean - r['QRF_TC']\n",
    "# y_upper['QRF_TC'] = pred_mean + r['QRF_TC']\n",
    "\n",
    "\n",
    "# Or you can compute directly the PI \n",
    "y_lower, y_upper = acp.predict_qrf_pi(x_test)"
   ]
  },
  {
   "cell_type": "code",
   "execution_count": 9,
   "id": "1d70e3ab",
   "metadata": {},
   "outputs": [
    {
     "name": "stdout",
     "output_type": "stream",
     "text": [
      "QRF_TC: Percentage in the range (expecting 90.00): 90.448200\n",
      "QRF_TC: Average length: 165.345554\n"
     ]
    }
   ],
   "source": [
    "coverages, lengths = helper.compute_coverage(y_test, y_lower, y_upper,\n",
    "                                            alpha, 'QRF_TC')"
   ]
  },
  {
   "cell_type": "code",
   "execution_count": 10,
   "id": "696fed05",
   "metadata": {},
   "outputs": [
    {
     "data": {
      "image/png": "[encoded data removed]",
      "text/plain": [
       "<Figure size 700x500 with 1 Axes>"
      ]
     },
     "metadata": {},
     "output_type": "display_data"
    }
   ],
   "source": [
    "fig, ax = plt.subplots(dpi=100, figsize=(7, 5))\n",
    "g = sns.boxplot(data=y_upper-y_lower, orient=\"v\", ax=ax, showfliers = False,\n",
    "           saturation=0.75, width=0.8, dodge=True, fliersize=5, linewidth=None, whis=1.5)\n",
    "g.set_title('Interval Lengths Boxplot')\n",
    "plt.show()"
   ]
  }
 ],
 "metadata": {
  "kernelspec": {
   "display_name": "Python 3 (ipykernel)",
   "language": "python",
   "name": "python3"
  },
  "language_info": {
   "codemirror_mode": {
    "name": "ipython",
    "version": 3
   },
   "file_extension": ".py",
   "mimetype": "text/x-python",
   "name": "python",
   "nbconvert_exporter": "python",
   "pygments_lexer": "ipython3",
   "version": "3.10.0"
  }
 },
 "nbformat": 4,
 "nbformat_minor": 5
}
