{
 "cells": [
  {
   "cell_type": "code",
   "execution_count": 1,
   "id": "a263664d",
   "metadata": {},
   "outputs": [
    {
     "name": "stderr",
     "output_type": "stream",
     "text": [
      "/home/xxxxx/anaconda3/envs/acv3/lib/python3.10/site-packages/tqdm/auto.py:22: TqdmWarning: IProgress not found. Please update jupyter and ipywidgets. See https://ipywidgets.readthedocs.io/en/stable/user_install.html\n",
      "  from .autonotebook import tqdm as notebook_tqdm\n"
     ]
    }
   ],
   "source": [
    "from SLCP.datasets import datasets\n",
    "from SLCP.cqr import helper\n",
    "from sklearn.ensemble import RandomForestRegressor\n",
    "import numpy as np\n",
    "from ACP.acv_explainers import ACXplainer\n",
    "from ACP.acv_explainers.utils import mean_score, quantile_score\n",
    "from SLCP.conformal import ConformalPred\n",
    "import matplotlib.pyplot as plt\n",
    "import seaborn as sns\n",
    "import pandas as pd"
   ]
  },
  {
   "cell_type": "markdown",
   "id": "405d2a5e",
   "metadata": {},
   "source": [
    "### 1. Import datasets"
   ]
  },
  {
   "cell_type": "code",
   "execution_count": 2,
   "id": "ebf8c2f0",
   "metadata": {},
   "outputs": [],
   "source": [
    "random_seed = 2022\n",
    "\n",
    "base_dataset_path = '/home/xxxxx/acp_experiments/SLCP/datasets/'\n",
    "dataset_name = 'bike'\n",
    "\n",
    "test_ratio = 0.25\n",
    "valid_ratio = 0.5\n",
    "\n",
    "alpha = 0.1\n",
    "level = 1 - alpha\n",
    "\n",
    "# METRICS\n",
    "coverages = {}\n",
    "lengths = {}\n",
    "lengths_residuals = {}\n",
    "y_lower = {}\n",
    "y_upper = {}\n",
    "r = {}"
   ]
  },
  {
   "cell_type": "code",
   "execution_count": 3,
   "id": "3b138188",
   "metadata": {},
   "outputs": [],
   "source": [
    "X_train, X_test, y_train, y_test = datasets.GetDataset(dataset_name, base_dataset_path, random_seed, test_ratio)\n",
    "\n",
    "x_train, x_test = X_train.astype(np.double), X_test.astype(np.double)\n",
    "y_train, y_test = y_train.astype(np.double).reshape(-1), y_test.astype(np.double).reshape(-1)\n",
    "\n",
    "in_shape = x_train.shape[1]\n",
    "n_train = x_train.shape[0]\n",
    "\n",
    "idx = np.random.permutation(n_train)\n",
    "n_half = int(np.floor(n_train * valid_ratio))\n",
    "idx_train, idx_cal = idx[:n_half], idx[n_half:]"
   ]
  },
  {
   "cell_type": "markdown",
   "id": "bee3f20a",
   "metadata": {},
   "source": [
    "### 2. Train model"
   ]
  },
  {
   "cell_type": "code",
   "execution_count": 4,
   "id": "41257534",
   "metadata": {},
   "outputs": [
    {
     "data": {
      "text/plain": [
       "RandomForestRegressor(max_features=10, min_samples_leaf=10, random_state=2022)"
      ]
     },
     "execution_count": 4,
     "metadata": {},
     "output_type": "execute_result"
    }
   ],
   "source": [
    "mean_estimator = RandomForestRegressor(n_estimators=100,\n",
    "                                       min_samples_leaf=10,\n",
    "                                       max_features=10,\n",
    "                                       random_state=random_seed)\n",
    "\n",
    "mean_estimator.fit(x_train[idx_train], y_train[idx_train])"
   ]
  },
  {
   "cell_type": "code",
   "execution_count": 5,
   "id": "a0e1d148",
   "metadata": {},
   "outputs": [],
   "source": [
    "pred_mean = mean_estimator.predict(x_test).astype(np.float64)\n",
    "v_test = mean_score(pred_mean, y_test)"
   ]
  },
  {
   "cell_type": "markdown",
   "id": "9ffb735d",
   "metadata": {},
   "source": [
    "### 3. Adaptive Conformal Prediction (ACP) "
   ]
  },
  {
   "cell_type": "code",
   "execution_count": 6,
   "id": "f524d60e",
   "metadata": {},
   "outputs": [],
   "source": [
    "acp = ACXplainer(classifier=False, n_estimators=100,\n",
    "                  mtry=int(in_shape),\n",
    "                  max_depth=20,\n",
    "                  min_node_size=10,\n",
    "                  seed=random_seed)"
   ]
  },
  {
   "cell_type": "code",
   "execution_count": 7,
   "id": "694071cc",
   "metadata": {},
   "outputs": [
    {
     "name": "stdout",
     "output_type": "stream",
     "text": [
      "Training calibration of QRF\n"
     ]
    },
    {
     "name": "stderr",
     "output_type": "stream",
     "text": [
      "100%|████████████████████████████████████████████████████████████████████████████████████████████████████████████████████████████████████████████████████████████████████████████████████████████████████████████████████████████████████| 50/50 [01:37<00:00,  1.95s/it]\n"
     ]
    }
   ],
   "source": [
    "acp.fit_calibration(x_train[idx_cal], y_train[idx_cal], mean_estimator, quantile=level, only_qrf=True)"
   ]
  },
  {
   "cell_type": "code",
   "execution_count": 8,
   "id": "8c8ca476",
   "metadata": {},
   "outputs": [],
   "source": [
    "# These code first compute the predicted residuals quantile, then compute the PI\n",
    "r['QRF_TC'] = acp.predict_qrf_r(x_test)\n",
    "y_lower['QRF_TC'] = pred_mean - r['QRF_TC']\n",
    "y_upper['QRF_TC'] = pred_mean + r['QRF_TC']\n",
    "# You can compute directly the PI \n",
    "# y_lower, y_upper = acv.predict_qrf_pi(x_test)"
   ]
  },
  {
   "cell_type": "markdown",
   "id": "0d27c971",
   "metadata": {},
   "source": [
    "### 4. Split Conformal Prediciton "
   ]
  },
  {
   "cell_type": "code",
   "execution_count": 9,
   "id": "8bed19fd",
   "metadata": {},
   "outputs": [],
   "source": [
    "# SPLIT conformal\n",
    "cp_split = ConformalPred(model=mean_estimator,\n",
    "                         method='split',\n",
    "                         data_name=dataset_name,\n",
    "                         ratio=valid_ratio,\n",
    "                         x_train=x_train,\n",
    "                         x_test=x_test,\n",
    "                         y_train=y_train,\n",
    "                         y_test=y_test)\n",
    "\n",
    "cp_split.idx_train = idx_train\n",
    "cp_split.idx_cal = idx_cal\n",
    "cp_split.fit()\n",
    "\n",
    "y_lower_split, y_upper_split = cp_split.predict()\n",
    "y_lower['SPLIT'] = y_lower_split\n",
    "y_upper['SPLIT'] = y_upper_split\n",
    "r['SPLIT'] = y_upper_split - y_lower_split"
   ]
  },
  {
   "cell_type": "markdown",
   "id": "8c0bc002",
   "metadata": {},
   "source": [
    "### 5. SLCP "
   ]
  },
  {
   "cell_type": "code",
   "execution_count": 10,
   "id": "e0375566",
   "metadata": {},
   "outputs": [],
   "source": [
    "cp_slcp = ConformalPred(model=mean_estimator,\n",
    "                                method='slcp-mean',\n",
    "                                data_name=dataset_name,\n",
    "                                ratio=valid_ratio,\n",
    "                                x_train=x_train,\n",
    "                                x_test=x_test,\n",
    "                                y_train=y_train,\n",
    "                                y_test=y_test)\n",
    "\n",
    "cp_slcp.idx_train = idx_train\n",
    "cp_slcp.idx_cal = idx_cal\n",
    "cp_slcp.fit()\n",
    "\n",
    "\n",
    "y_lower_slcp, y_upper_slcp = cp_slcp.predict()\n",
    "y_lower['SLCP'] = y_lower_slcp\n",
    "y_upper['SLCP'] = y_upper_slcp\n",
    "r['SLCP'] = y_upper_slcp - y_lower_slcp"
   ]
  },
  {
   "cell_type": "markdown",
   "id": "fdd5748b",
   "metadata": {},
   "source": [
    "###  Metrics"
   ]
  },
  {
   "cell_type": "code",
   "execution_count": 11,
   "id": "0d8802b2",
   "metadata": {},
   "outputs": [],
   "source": [
    "methods = ['QRF_TC', 'SPLIT', 'SLCP']"
   ]
  },
  {
   "cell_type": "code",
   "execution_count": 12,
   "id": "0403b6c1",
   "metadata": {},
   "outputs": [
    {
     "name": "stdout",
     "output_type": "stream",
     "text": [
      "QRF_TC: Percentage in the range (expecting 90.00): 90.668626\n",
      "QRF_TC: Average length: 165.801103\n",
      "SPLIT: Percentage in the range (expecting 90.00): 90.264511\n",
      "SPLIT: Average length: 232.805553\n",
      "SLCP: Percentage in the range (expecting 90.00): 90.080823\n",
      "SLCP: Average length: 233.048931\n"
     ]
    }
   ],
   "source": [
    "for method in methods:\n",
    "    coverages[method], lengths[method] = helper.compute_coverage(y_test, y_lower[method], y_upper[method],\n",
    "                                                                 alpha, method)\n",
    "    lengths_residuals[method] = np.mean(np.abs(v_test - r[method]))\n"
   ]
  },
  {
   "cell_type": "code",
   "execution_count": 13,
   "id": "7b6aee4a",
   "metadata": {},
   "outputs": [],
   "source": [
    "r_data = pd.DataFrame.from_dict(r)\n",
    "\n",
    "v_error = r_data.copy()\n",
    "for method in methods:\n",
    "    v_error[method] = np.abs(v_error[method] - v_test)/np.abs(v_test) "
   ]
  },
  {
   "cell_type": "code",
   "execution_count": 14,
   "id": "d0d705ca",
   "metadata": {},
   "outputs": [
    {
     "data": {
      "image/png": "[encoded data removed]",
      "text/plain": [
       "<Figure size 700x500 with 1 Axes>"
      ]
     },
     "metadata": {},
     "output_type": "display_data"
    }
   ],
   "source": [
    "fig, ax = plt.subplots(dpi=100, figsize=(7, 5))\n",
    "g = sns.boxplot(data=r_data[methods], orient=\"v\", ax=ax, showfliers = False,\n",
    "           saturation=0.75, width=0.8, dodge=True, fliersize=5, linewidth=None, whis=1.5)\n",
    "g.set_title('Interval Lengths Boxplot')\n",
    "plt.show()"
   ]
  },
  {
   "cell_type": "code",
   "execution_count": 15,
   "id": "8b6b6725",
   "metadata": {},
   "outputs": [
    {
     "data": {
      "image/png": "[encoded data removed]",
      "text/plain": [
       "<Figure size 700x500 with 1 Axes>"
      ]
     },
     "metadata": {},
     "output_type": "display_data"
    }
   ],
   "source": [
    "fig, ax = plt.subplots(dpi=100, figsize=(7, 5))\n",
    "g = sns.boxplot(data=v_error[methods], orient=\"v\", ax=ax, showfliers = False,\n",
    "           saturation=0.75, width=0.8, dodge=True, fliersize=5, linewidth=None, whis=1.5)\n",
    "g.set_title('Residuals Boxplot')\n",
    "plt.show()"
   ]
  }
 ],
 "metadata": {
  "kernelspec": {
   "display_name": "Python 3 (ipykernel)",
   "language": "python",
   "name": "python3"
  },
  "language_info": {
   "codemirror_mode": {
    "name": "ipython",
    "version": 3
   },
   "file_extension": ".py",
   "mimetype": "text/x-python",
   "name": "python",
   "nbconvert_exporter": "python",
   "pygments_lexer": "ipython3",
   "version": "3.10.0"
  }
 },
 "nbformat": 4,
 "nbformat_minor": 5
}
