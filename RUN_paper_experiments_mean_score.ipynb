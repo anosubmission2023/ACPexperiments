{
 "cells": [
  {
   "cell_type": "code",
   "execution_count": 23,
   "id": "a263664d",
   "metadata": {},
   "outputs": [],
   "source": [
    "from SLCP.datasets import datasets\n",
    "from SLCP import config\n",
    "from SLCP.cqr import helper\n",
    "from sklearn.ensemble import RandomForestRegressor\n",
    "import numpy as np\n",
    "from ACP.acv_explainers import ACXplainer\n",
    "from ACP.acv_explainers.utils import mean_score, quantile_score\n",
    "from SLCP.conformal import ConformalPred\n",
    "import matplotlib.pyplot as plt\n",
    "import seaborn as sns\n",
    "import pandas as pd\n",
    "from tqdm import tqdm"
   ]
  },
  {
   "cell_type": "markdown",
   "id": "405d2a5e",
   "metadata": {},
   "source": [
    "### 0. Experiment setup"
   ]
  },
  {
   "cell_type": "code",
   "execution_count": 2,
   "id": "ebf8c2f0",
   "metadata": {},
   "outputs": [],
   "source": [
    "random_seed = 2022\n",
    "\n",
    "base_dataset_path = '/home/xxxxx/acp_experiments/SLCP/datasets/'\n",
    "dataset_name = 'star'\n",
    "model_name = 'random_forest'\n",
    "test_ratio = 0.25\n",
    "valid_ratio = 0.5\n",
    "\n",
    "alpha = 0.1\n",
    "level = 1 - alpha\n",
    "\n",
    "# METRICS\n",
    "coverages = {}\n",
    "lengths = {}\n",
    "lengths_residuals = {}\n",
    "y_lower = {}\n",
    "y_upper = {}\n",
    "r = {}"
   ]
  },
  {
   "cell_type": "code",
   "execution_count": 3,
   "id": "f159af51",
   "metadata": {},
   "outputs": [],
   "source": [
    "estimator_map = {'SPLIT': 'mean', 'SLCP': 'mean', 'CQR': 'quantile', 'LCP-RF': 'mean', 'LCP-RF-Group': 'mean',\n",
    "                 'QRF_train': 'mean', 'SPLIT-G':'mean'}\n",
    "color_map = {'SPLIT': 'red', 'SLCP': 'red', 'CQR': 'red', 'LCP-RF': 'red', 'LCP-RF-Group': 'red',\n",
    "             'QRF_train': 'red', 'SPLIT-G':'red'}\n",
    "model_map = {'random_forest': 'Random Forest', 'linear': 'Linear Regression', 'neural_net': 'Neural Network',\n",
    "             'kde': 'Constant', 'xgboost': 'XGBRegressor'}"
   ]
  },
  {
   "cell_type": "markdown",
   "id": "cdb7515b",
   "metadata": {},
   "source": [
    "### 1. Import datasets"
   ]
  },
  {
   "cell_type": "code",
   "execution_count": 4,
   "id": "3b138188",
   "metadata": {},
   "outputs": [],
   "source": [
    "X_train, X_test, y_train, y_test = datasets.GetDataset(dataset_name, base_dataset_path, random_seed, test_ratio)\n",
    "\n",
    "x_train, x_test = X_train.astype(np.double), X_test.astype(np.double)\n",
    "y_train, y_test = y_train.astype(np.double).reshape(-1), y_test.astype(np.double).reshape(-1)\n",
    "\n",
    "in_shape = x_train.shape[1]\n",
    "n_train = x_train.shape[0]\n",
    "\n",
    "idx = np.random.permutation(n_train)\n",
    "n_half = int(np.floor(n_train * valid_ratio))\n",
    "idx_train, idx_cal = idx[:n_half], idx[n_half:]"
   ]
  },
  {
   "cell_type": "markdown",
   "id": "bee3f20a",
   "metadata": {},
   "source": [
    "### 2. Train model"
   ]
  },
  {
   "cell_type": "code",
   "execution_count": 5,
   "id": "41257534",
   "metadata": {},
   "outputs": [],
   "source": [
    "if model_name == 'random_forest':\n",
    "    mean_estimator = RandomForestRegressor(n_estimators=config.RandomForecastParams.n_estimators,\n",
    "                                           min_samples_leaf=config.RandomForecastParams.min_samples_leaf,\n",
    "                                           max_features=in_shape,\n",
    "                                           random_state=config.RandomForecastParams.random_state)\n",
    "    quantile_estimator = helper.QuantileForestRegressorAdapter(model=None,\n",
    "                                                               fit_params=None,\n",
    "                                                               quantiles=config.ConformalParams.quantiles,\n",
    "                                                               params=config.RandomForecastParams)\n",
    "\n",
    "elif model_name == 'xgboost':\n",
    "    mean_estimator = XGBRegressor(learning_rate =0.01,\n",
    "                                 n_estimators=1000,\n",
    "                                 max_depth=10,\n",
    "                                 min_child_weight=6,\n",
    "                                 gamma=0,\n",
    "                                 subsample=0.8,\n",
    "                                 colsample_bytree=0.8,\n",
    "                                 reg_alpha=0.005,\n",
    "                                 nthread=4,\n",
    "                                 scale_pos_weight=1,\n",
    "                                 seed=27)\n",
    "    quantile_estimator = helper.QuantileForestRegressorAdapter(model=None,\n",
    "                                                               fit_params=None,\n",
    "                                                               quantiles=config.ConformalParams.quantiles,\n",
    "                                                               params=config.RandomForecastParams)\n",
    "\n",
    "\n",
    "elif model_name == 'linear':\n",
    "    mean_estimator = helper.MSELR_RegressorAdapter(model=None,\n",
    "                                                   in_shape=in_shape,\n",
    "                                                   epochs=config.LinearParams.epochs,\n",
    "                                                   lr=config.LinearParams.lr,\n",
    "                                                   batch_size=config.LinearParams.batch_size,\n",
    "                                                   wd=config.LinearParams.wd,\n",
    "                                                   test_ratio=config.LinearParams.test_ratio,\n",
    "                                                   random_state=config.LinearParams.random_state)\n",
    "\n",
    "    quantile_estimator = helper.QLR_RegressorAdapter(model=None,\n",
    "                                                     in_shape=in_shape,\n",
    "                                                     epochs=config.LinearParams.epochs,\n",
    "                                                     lr=config.LinearParams.lr,\n",
    "                                                     batch_size=config.LinearParams.batch_size,\n",
    "                                                     wd=config.LinearParams.wd,\n",
    "                                                     test_ratio=config.LinearParams.test_ratio,\n",
    "                                                     random_state=config.LinearParams.random_state)\n",
    "\n",
    "elif model_name == 'neural_net':\n",
    "\n",
    "    mean_estimator = helper.MSENet_RegressorAdapter(model=None,\n",
    "                                                    in_shape=in_shape,\n",
    "                                                    hidden_size=config.NeuralNetParams.hidden_size,\n",
    "                                                    epochs=config.NeuralNetParams.epochs,\n",
    "                                                    lr=config.NeuralNetParams.lr,\n",
    "                                                    batch_size=config.NeuralNetParams.batch_size,\n",
    "                                                    dropout=config.NeuralNetParams.dropout,\n",
    "                                                    wd=config.NeuralNetParams.wd,\n",
    "                                                    test_ratio=config.NeuralNetParams.test_ratio,\n",
    "                                                    random_state=config.NeuralNetParams.random_state)\n",
    "\n",
    "    quantile_estimator = helper.AllQNet_RegressorAdapter(model=None,\n",
    "                                                         in_shape=in_shape,\n",
    "                                                         hidden_size=config.NeuralNetParams.hidden_size,\n",
    "                                                         epochs=config.NeuralNetParams.epochs,\n",
    "                                                         lr=config.NeuralNetParams.lr,\n",
    "                                                         batch_size=config.NeuralNetParams.batch_size,\n",
    "                                                         dropout=config.NeuralNetParams.dropout,\n",
    "                                                         wd=config.NeuralNetParams.wd,\n",
    "                                                         test_ratio=config.NeuralNetParams.test_ratio,\n",
    "                                                         random_state=config.NeuralNetParams.random_state)\n",
    "\n",
    "elif model_name == 'kde':\n",
    "    mean_estimator = helper.MSEConst_RegressorAdapter()\n",
    "\n",
    "    quantile_estimator = helper.QConst_RegressorAdapter()\n",
    "\n",
    "\n",
    "\n",
    "methods = ['SPLIT', 'SPLIT-G', 'SLCP', 'CQR', 'LCP-RF', 'LCP-RF-Group', 'QRF_train']\n",
    "\n",
    "mean_estimator.fit(x_train[idx_train], y_train[idx_train])\n",
    "# quantile_estimator.fit(x_train[idx_train], y_train[idx_train])\n",
    "\n",
    "pred_mean = mean_estimator.predict(x_test).astype(np.float64)\n",
    "\n",
    "v_test = mean_score(mean_estimator.predict(x_test), y_test)\n",
    "# v_test_quantile = quantile_score(quantile_estimator.predict(x_test), y_test)"
   ]
  },
  {
   "cell_type": "markdown",
   "id": "11313b3d",
   "metadata": {},
   "source": [
    "### SPLIT conformal"
   ]
  },
  {
   "cell_type": "code",
   "execution_count": 6,
   "id": "71de96ab",
   "metadata": {},
   "outputs": [],
   "source": [
    "cp_split = ConformalPred(model=mean_estimator,\n",
    "                         method='split',\n",
    "                         data_name=dataset_name,\n",
    "                         ratio=config.ConformalParams.valid_ratio,\n",
    "                         x_train=x_train,\n",
    "                         x_test=x_test,\n",
    "                         y_train=y_train,\n",
    "                         y_test=y_test,\n",
    "                         k=config.ConformalParams.k)\n",
    "\n",
    "cp_split.idx_train = idx_train\n",
    "cp_split.idx_cal = idx_cal\n",
    "cp_split.fit()\n",
    "\n",
    "y_lower_split, y_upper_split = cp_split.predict()\n",
    "y_lower['SPLIT'] = y_lower_split\n",
    "y_upper['SPLIT'] = y_upper_split\n",
    "r['SPLIT'] = y_upper_split - y_lower_split"
   ]
  },
  {
   "cell_type": "markdown",
   "id": "98c1dae1",
   "metadata": {},
   "source": [
    "### SLCP conformal\n"
   ]
  },
  {
   "cell_type": "code",
   "execution_count": 7,
   "id": "25447569",
   "metadata": {},
   "outputs": [],
   "source": [
    "cp_slcp = ConformalPred(model=mean_estimator,\n",
    "                        method='slcp-mean',\n",
    "                        data_name=dataset_name,\n",
    "                        ratio=config.ConformalParams.valid_ratio,\n",
    "                        x_train=x_train,\n",
    "                        x_test=x_test,\n",
    "                        y_train=y_train,\n",
    "                        y_test=y_test,\n",
    "                        k=config.ConformalParams.k)\n",
    "\n",
    "cp_slcp.idx_train = idx_train\n",
    "cp_slcp.idx_cal = idx_cal\n",
    "cp_slcp.fit()\n",
    "\n",
    "\n",
    "y_lower_slcp, y_upper_slcp = cp_slcp.predict()\n",
    "y_lower['SLCP'] = y_lower_slcp\n",
    "y_upper['SLCP'] = y_upper_slcp\n",
    "r['SLCP'] = y_upper_slcp - y_lower_slcp"
   ]
  },
  {
   "cell_type": "markdown",
   "id": "fb6be632",
   "metadata": {},
   "source": [
    "### LCP-RF "
   ]
  },
  {
   "cell_type": "markdown",
   "id": "c4736ae1",
   "metadata": {},
   "source": [
    "#### LCP-RF calibration"
   ]
  },
  {
   "cell_type": "code",
   "execution_count": 10,
   "id": "9c9ebdaf",
   "metadata": {},
   "outputs": [
    {
     "name": "stdout",
     "output_type": "stream",
     "text": [
      "Training calibration of QRF\n"
     ]
    },
    {
     "name": "stderr",
     "output_type": "stream",
     "text": [
      "100%|███████████████████████████████████████████| 20/20 [00:15<00:00,  1.26it/s]\n"
     ]
    },
    {
     "name": "stdout",
     "output_type": "stream",
     "text": [
      "Marginal calibration of RF-LCP\n"
     ]
    },
    {
     "name": "stderr",
     "output_type": "stream",
     "text": [
      "100%|█████████████████████████████████████████| 200/200 [00:03<00:00, 61.06it/s]\n"
     ]
    },
    {
     "name": "stdout",
     "output_type": "stream",
     "text": [
      "Training-conditional calibration of RF-LCP\n"
     ]
    },
    {
     "name": "stderr",
     "output_type": "stream",
     "text": [
      "100%|█████████████████████████████████████████| 405/405 [00:11<00:00, 35.85it/s]"
     ]
    },
    {
     "name": "stdout",
     "output_type": "stream",
     "text": [
      "Training-conditional-one calibration of RF-LCP\n",
      "Computing communities using the RF weights\n"
     ]
    },
    {
     "name": "stderr",
     "output_type": "stream",
     "text": [
      "\n",
      "100%|█████████████████████████████████████████| 100/100 [01:43<00:00,  1.04s/it]\n",
      "100%|█████████████████████████████████████████| 100/100 [03:16<00:00,  1.97s/it]\n",
      "100%|█████████████████████████████████████████| 100/100 [00:13<00:00,  7.56it/s]\n"
     ]
    },
    {
     "name": "stdout",
     "output_type": "stream",
     "text": [
      "Marginal calibration of Group-wise RF-LCP\n",
      "Training-conditional calibration of Group-wise LCP\n"
     ]
    },
    {
     "name": "stderr",
     "output_type": "stream",
     "text": [
      "100%|████████████████████████████████████████| 405/405 [00:02<00:00, 170.55it/s]\n"
     ]
    }
   ],
   "source": [
    "# LCP-RF\n",
    "level = 1 - config.ConformalParams.alpha\n",
    "acv_xplainer = ACXplainer(classifier=False, n_estimators=200,\n",
    "                          mtry=int(in_shape),\n",
    "                          max_depth=20,\n",
    "                          min_node_size=10,\n",
    "                          seed=config.RandomForecastParams.random_state)\n",
    "\n",
    "acv_xplainer.fit_calibration(x_train[idx_cal], y_train[idx_cal], mean_estimator,\n",
    "                             bygroup=True, training_conditional=True, training_conditional_one=True,\n",
    "                             quantile=level, score_type='mean', only_qrf=False)"
   ]
  },
  {
   "cell_type": "markdown",
   "id": "56371679",
   "metadata": {},
   "source": [
    "#### QRF-TC PI"
   ]
  },
  {
   "cell_type": "code",
   "execution_count": 11,
   "id": "aaa74080",
   "metadata": {},
   "outputs": [],
   "source": [
    "r['QRF_TC'] = acv_xplainer.predict_qrf_r(x_test)\n",
    "y_lower['QRF_TC'] = pred_mean - r['QRF_TC']\n",
    "y_upper['QRF_TC'] = pred_mean + r['QRF_TC']"
   ]
  },
  {
   "cell_type": "markdown",
   "id": "00ed9d0e",
   "metadata": {},
   "source": [
    "#### LCP-RF PI"
   ]
  },
  {
   "cell_type": "code",
   "execution_count": 12,
   "id": "4f14c782",
   "metadata": {},
   "outputs": [
    {
     "name": "stderr",
     "output_type": "stream",
     "text": [
      "100%|█████████████████████████████████████████| 541/541 [00:15<00:00, 36.05it/s]\n"
     ]
    }
   ],
   "source": [
    "r['LCP-RF'], s_lcp_all = acv_xplainer.predict_rf_lcp_train_one(x_test, level)\n",
    "y_lower['LCP-RF'] = pred_mean - r['LCP-RF']\n",
    "y_upper['LCP-RF'] = pred_mean + r['LCP-RF']"
   ]
  },
  {
   "cell_type": "markdown",
   "id": "5f1d1fbe",
   "metadata": {},
   "source": [
    "#### LCP-RF-G PI"
   ]
  },
  {
   "cell_type": "code",
   "execution_count": 13,
   "id": "b143f195",
   "metadata": {},
   "outputs": [
    {
     "name": "stderr",
     "output_type": "stream",
     "text": [
      "100%|████████████████████████████████████████| 541/541 [00:02<00:00, 189.79it/s]\n"
     ]
    }
   ],
   "source": [
    "r['LCP-RF-G'], y_lcp_group = acv_xplainer.predict_rf_lcp_bygroup_train(x_test, level)\n",
    "y_lower['LCP-RF-G'] = pred_mean - r['LCP-RF-G']\n",
    "y_upper['LCP-RF-G'] = pred_mean + r['LCP-RF-G']"
   ]
  },
  {
   "cell_type": "markdown",
   "id": "5b431e14",
   "metadata": {},
   "source": [
    "### Split G"
   ]
  },
  {
   "cell_type": "code",
   "execution_count": 16,
   "id": "50b8979a",
   "metadata": {},
   "outputs": [
    {
     "name": "stdout",
     "output_type": "stream",
     "text": [
      "SPLIT-Groupwise\n"
     ]
    },
    {
     "name": "stderr",
     "output_type": "stream",
     "text": [
      "100%|██████████████████████████████████████| 541/541 [00:00<00:00, 39574.43it/s]\n"
     ]
    }
   ],
   "source": [
    "print('SPLIT-Groupwise')\n",
    "acv = acv_xplainer\n",
    "y_test_base = np.zeros(x_test.shape[0])\n",
    "w_test = acv.compute_forest_weights(x_test, y_test_base, acv.x_cali, acv.r_cali)\n",
    "groups = np.unique(acv.communities)\n",
    "p_test = np.zeros(shape=(x_test.shape[0], len(groups)))\n",
    "for group in groups:\n",
    "    p_test[:, group] = np.sum(w_test[:, acv.communities == group], axis=1)\n",
    "\n",
    "group_test = np.argmax(p_test, axis=1)\n",
    "\n",
    "n_test = x_test.shape[0]\n",
    "r_split_group = np.zeros(n_test)\n",
    "\n",
    "\n",
    "r_cali = acv.r_cali\n",
    "for i in tqdm(range(n_test)):\n",
    "    group_idx = acv.communities == group_test[i]\n",
    "\n",
    "    n_group = np.sum(group_idx)\n",
    "    r_candidate = r_cali[group_idx]\n",
    "\n",
    "    k_star = np.int((n_group + 1) * (level))\n",
    "    r_split_group[i] = np.sort(r_candidate)[k_star-1]\n",
    "\n",
    "y_lower['SPLIT-G'] = pred_mean - r_split_group\n",
    "y_upper['SPLIT-G'] = pred_mean + r_split_group\n",
    "r['SPLIT-G'] = r_split_group"
   ]
  },
  {
   "cell_type": "markdown",
   "id": "88ff59e2",
   "metadata": {},
   "source": [
    "### Metrics"
   ]
  },
  {
   "cell_type": "code",
   "execution_count": 17,
   "id": "5c606f72",
   "metadata": {},
   "outputs": [],
   "source": [
    "methods = ['SPLIT', 'SLCP', 'LCP-RF', 'LCP-RF-G', 'QRF_TC']"
   ]
  },
  {
   "cell_type": "code",
   "execution_count": 19,
   "id": "8647ecd5",
   "metadata": {},
   "outputs": [
    {
     "name": "stdout",
     "output_type": "stream",
     "text": [
      "SPLIT: Percentage in the range (expecting 90.00): 89.833641\n",
      "SPLIT: Average length: 770.078233\n",
      "SLCP: Percentage in the range (expecting 90.00): 90.203327\n",
      "SLCP: Average length: 780.990773\n",
      "LCP-RF: Percentage in the range (expecting 90.00): 89.833641\n",
      "LCP-RF: Average length: 794.023843\n",
      "LCP-RF-G: Percentage in the range (expecting 90.00): 88.724584\n",
      "LCP-RF-G: Average length: 837.667701\n",
      "QRF_TC: Percentage in the range (expecting 90.00): 89.833641\n",
      "QRF_TC: Average length: 772.609290\n"
     ]
    }
   ],
   "source": [
    "for method in methods:\n",
    "    coverages[method], lengths[method] = helper.compute_coverage(y_test, y_lower[method], y_upper[method],\n",
    "                                                                 config.ConformalParams.alpha, method)\n",
    "    \n",
    "    lengths_residuals[method] = np.mean(np.abs(v_test - r[method]))"
   ]
  },
  {
   "cell_type": "code",
   "execution_count": 20,
   "id": "671f0dd5",
   "metadata": {},
   "outputs": [],
   "source": [
    "r_data = pd.DataFrame.from_dict(r)\n",
    "\n",
    "v_error = r_data.copy()\n",
    "for method in methods:\n",
    "    v_error[method] = np.abs(v_error[method] - v_test)/np.abs(v_test) "
   ]
  },
  {
   "cell_type": "code",
   "execution_count": 21,
   "id": "f84f923a",
   "metadata": {},
   "outputs": [
    {
     "data": {
      "image/png": "[encoded data removed]",
      "text/plain": [
       "<Figure size 700x500 with 1 Axes>"
      ]
     },
     "metadata": {},
     "output_type": "display_data"
    }
   ],
   "source": [
    "fig, ax = plt.subplots(dpi=100, figsize=(7, 5))\n",
    "g = sns.boxplot(data=r_data[methods], orient=\"v\", ax=ax, showfliers = False,\n",
    "           saturation=0.75, width=0.8, dodge=True, fliersize=5, linewidth=None, whis=1.5)\n",
    "g.set_title('Interval Lengths Boxplot')\n",
    "plt.show()"
   ]
  },
  {
   "cell_type": "code",
   "execution_count": 22,
   "id": "44b7814d",
   "metadata": {},
   "outputs": [
    {
     "data": {
      "image/png": "[encoded data removed]",
      "text/plain": [
       "<Figure size 700x500 with 1 Axes>"
      ]
     },
     "metadata": {},
     "output_type": "display_data"
    }
   ],
   "source": [
    "fig, ax = plt.subplots(dpi=100, figsize=(7, 5))\n",
    "g = sns.boxplot(data=v_error[methods], orient=\"v\", ax=ax, showfliers = False,\n",
    "           saturation=0.75, width=0.8, dodge=True, fliersize=5, linewidth=None, whis=1.5)\n",
    "g.set_title('Residuals Boxplot')\n",
    "plt.show()"
   ]
  }
 ],
 "metadata": {
  "kernelspec": {
   "display_name": "Python 3 (ipykernel)",
   "language": "python",
   "name": "python3"
  },
  "language_info": {
   "codemirror_mode": {
    "name": "ipython",
    "version": 3
   },
   "file_extension": ".py",
   "mimetype": "text/x-python",
   "name": "python",
   "nbconvert_exporter": "python",
   "pygments_lexer": "ipython3",
   "version": "3.8.0"
  }
 },
 "nbformat": 4,
 "nbformat_minor": 5
}
